{
  "nbformat": 4,
  "nbformat_minor": 0,
  "metadata": {
    "colab": {
      "provenance": [],
      "authorship_tag": "ABX9TyPacWC9L6MCQIKj3gPBT47x",
      "include_colab_link": true
    },
    "kernelspec": {
      "name": "python3",
      "display_name": "Python 3"
    },
    "language_info": {
      "name": "python"
    }
  },
  "cells": [
    {
      "cell_type": "markdown",
      "metadata": {
        "id": "view-in-github",
        "colab_type": "text"
      },
      "source": [
        "<a href=\"https://colab.research.google.com/github/The-Unindented/Digit_Classification/blob/main/DL_Practical4.ipynb\" target=\"_parent\"><img src=\"https://colab.research.google.com/assets/colab-badge.svg\" alt=\"Open In Colab\"/></a>"
      ]
    },
    {
      "cell_type": "code",
      "execution_count": null,
      "metadata": {
        "id": "y_wHDMo6P_KJ",
        "colab": {
          "base_uri": "https://localhost:8080/"
        },
        "outputId": "f46144b3-5fff-4a0f-8fd3-d37e18653f06"
      },
      "outputs": [
        {
          "output_type": "stream",
          "name": "stdout",
          "text": [
            "Downloading data from https://storage.googleapis.com/tensorflow/tf-keras-datasets/mnist.npz\n",
            "11490434/11490434 [==============================] - 1s 0us/step\n"
          ]
        }
      ],
      "source": [
        "from tensorflow.keras.models import Sequential\n",
        "from tensorflow.keras.layers import Activation , Dense\n",
        "from tensorflow.keras.datasets import mnist\n",
        "(x_train,y_train),(x_test,y_test)=mnist.load_data()\n"
      ]
    },
    {
      "cell_type": "code",
      "source": [
        "#model = Sequential([\n",
        " #   Dense(3,activation=\"relu\",input_shape=(4,)),\n",
        "  #  Dense(2,activation=\"softmax\")\n",
        "#]\n",
        "#)\n",
        "#print(x_train[0])\n",
        "#print(y_train[0])\n",
        "import matplotlib.pyplot as plt\n",
        "for i in range(10):\n",
        "  print(y_train[i])\n",
        "  plt.imshow(x_train[i])\n",
        "  plt.show()"
      ],
      "metadata": {
        "id": "dytV7iieRUea"
      },
      "execution_count": null,
      "outputs": []
    },
    {
      "cell_type": "code",
      "source": [
        "#model.summary()\n",
        "model=Sequential([\n",
        "    Dense(200,activation=\"relu\",input_shape=(784,)),\n",
        "    Dense(200,activation=\"relu\"),\n",
        "    Dense(10,activation=\"softmax\")\n",
        "])\n"
      ],
      "metadata": {
        "id": "j9cOGRk2WeT_"
      },
      "execution_count": null,
      "outputs": []
    },
    {
      "cell_type": "code",
      "source": [
        "model.compile(optimizer=\"adam\",loss='sparse_categorical_crossentropy',metrics=['accuracy'])\n",
        "x_train_flat=x_train.reshape(len(x_train),784)\n",
        "x_test=x_test.reshape(len(x_test),784)"
      ],
      "metadata": {
        "id": "tRwhspqaWujn"
      },
      "execution_count": null,
      "outputs": []
    },
    {
      "cell_type": "markdown",
      "source": [],
      "metadata": {
        "id": "XIfPbzXQnJBH"
      }
    },
    {
      "cell_type": "code",
      "source": [
        "print(x_train_flat[0])\n",
        "print(y_train[0])\n",
        "plt.imshow(x_train[0])\n",
        "plt.show()"
      ],
      "metadata": {
        "id": "iB_qXI48gQEU"
      },
      "execution_count": null,
      "outputs": []
    },
    {
      "cell_type": "code",
      "source": [
        "model.fit(x_train_flat,y_train,epochs=30,batch_size=100,verbose=2,validation_split=0.2)"
      ],
      "metadata": {
        "id": "QZOhYYjLqNxe"
      },
      "execution_count": null,
      "outputs": []
    },
    {
      "cell_type": "code",
      "source": [
        "y_predict=model.predict(x_test)"
      ],
      "metadata": {
        "colab": {
          "base_uri": "https://localhost:8080/"
        },
        "id": "cDEo7QSFuEA6",
        "outputId": "6d73eb01-d40a-4910-d4ec-4c5176db4fa7"
      },
      "execution_count": null,
      "outputs": [
        {
          "output_type": "stream",
          "name": "stdout",
          "text": [
            "313/313 [==============================] - 1s 2ms/step\n"
          ]
        }
      ]
    },
    {
      "cell_type": "code",
      "source": [
        "\n",
        "import numpy as np\n",
        "for i in range(10):\n",
        "  print(np.argmax(y_predict[i]),y_test[i])\n",
        "  plt.imshow(x_test[i].reshape(28,28))\n",
        "  plt.show()"
      ],
      "metadata": {
        "id": "Oulkf4Urwk3c"
      },
      "execution_count": null,
      "outputs": []
    },
    {
      "cell_type": "code",
      "source": [],
      "metadata": {
        "id": "hNZqKbUg53m4"
      },
      "execution_count": null,
      "outputs": []
    }
  ]
}